{
  "nbformat": 4,
  "nbformat_minor": 0,
  "metadata": {
    "colab": {
      "name": "image_classification.ipynb",
      "provenance": [],
      "collapsed_sections": [],
      "authorship_tag": "ABX9TyPZsy3zrP/CzfPZJfC0fQEs",
      "include_colab_link": true
    },
    "kernelspec": {
      "name": "python3",
      "display_name": "Python 3"
    }
  },
  "cells": [
    {
      "cell_type": "markdown",
      "metadata": {
        "id": "view-in-github",
        "colab_type": "text"
      },
      "source": [
        "<a href=\"https://colab.research.google.com/github/trisha025/Image_Classification_TransferLearning/blob/master/image_classification.ipynb\" target=\"_parent\"><img src=\"https://colab.research.google.com/assets/colab-badge.svg\" alt=\"Open In Colab\"/></a>"
      ]
    },
    {
      "cell_type": "code",
      "metadata": {
        "id": "FwMy-ebHTFRx",
        "colab_type": "code",
        "outputId": "d7485642-d742-43d1-cf03-31a56d62ec2e",
        "colab": {
          "base_uri": "https://localhost:8080/",
          "height": 138
        }
      },
      "source": [
        "!pip3 install torch\n",
        "!pip3 install torchvision"
      ],
      "execution_count": 1,
      "outputs": [
        {
          "output_type": "stream",
          "text": [
            "Requirement already satisfied: torch in /usr/local/lib/python3.6/dist-packages (1.4.0)\n",
            "Requirement already satisfied: torchvision in /usr/local/lib/python3.6/dist-packages (0.5.0)\n",
            "Requirement already satisfied: torch==1.4.0 in /usr/local/lib/python3.6/dist-packages (from torchvision) (1.4.0)\n",
            "Requirement already satisfied: six in /usr/local/lib/python3.6/dist-packages (from torchvision) (1.12.0)\n",
            "Requirement already satisfied: numpy in /usr/local/lib/python3.6/dist-packages (from torchvision) (1.17.5)\n",
            "Requirement already satisfied: pillow>=4.1.1 in /usr/local/lib/python3.6/dist-packages (from torchvision) (6.2.2)\n"
          ],
          "name": "stdout"
        }
      ]
    },
    {
      "cell_type": "code",
      "metadata": {
        "id": "QCinkM2XUqr0",
        "colab_type": "code",
        "colab": {}
      },
      "source": [
        "import torch\n",
        "import torchvision\n",
        "from torchvision import transforms, datasets\n",
        "from torch.utils.data import DataLoader"
      ],
      "execution_count": 0,
      "outputs": []
    },
    {
      "cell_type": "code",
      "metadata": {
        "id": "zeGfcYhEUv9E",
        "colab_type": "code",
        "colab": {}
      },
      "source": [
        "image_transforms = {\n",
        "    'train' : transforms.Compose([\n",
        "                                  transforms.RandomResizedCrop(size=256, scale=(0.8,1.0)),\n",
        "                                  transforms.RandomRotation(degrees=15),\n",
        "                                  transforms.CenterCrop(size=224),\n",
        "                                  transforms.ToTensor(),\n",
        "                                  transforms.Normalize([0.485, 0.456, 0.406],\n",
        "                                                       [0.229, 0.224, 0.225])\n",
        "    ]),\n",
        "    'valid' : transforms.Compose([\n",
        "                                  transforms.Resize(size=256),\n",
        "                                  transforms.CenterCrop(size=224),\n",
        "                                  transforms.ToTensor(),\n",
        "                                  transforms.Normalize([0.485, 0.456, 0.406],\n",
        "                                                       [0.229, 0.224, 0.225])\n",
        "    ]),\n",
        "    'test' : transforms.Compose([\n",
        "                                 transforms.Resize(size=256),\n",
        "                                 transforms.CenterCrop(size=224),\n",
        "                                 transforms.ToTensor(),\n",
        "                                 transforms.Normalize([0.485, 0.456, 0.406],\n",
        "                                                      [0.229, 0.224, 0.225])\n",
        "    ])\n",
        "}"
      ],
      "execution_count": 0,
      "outputs": []
    },
    {
      "cell_type": "code",
      "metadata": {
        "id": "wLB-kbWsYkYy",
        "colab_type": "code",
        "colab": {
          "base_uri": "https://localhost:8080/",
          "height": 121
        },
        "outputId": "ac12e61e-fb21-48a9-84d2-3ae2442246d7"
      },
      "source": [
        "from google.colab import drive\n",
        "drive.mount('/content/gdrive')"
      ],
      "execution_count": 4,
      "outputs": [
        {
          "output_type": "stream",
          "text": [
            "Go to this URL in a browser: https://accounts.google.com/o/oauth2/auth?client_id=947318989803-6bn6qk8qdgf4n4g3pfee6491hc0brc4i.apps.googleusercontent.com&redirect_uri=urn%3aietf%3awg%3aoauth%3a2.0%3aoob&response_type=code&scope=email%20https%3a%2f%2fwww.googleapis.com%2fauth%2fdocs.test%20https%3a%2f%2fwww.googleapis.com%2fauth%2fdrive%20https%3a%2f%2fwww.googleapis.com%2fauth%2fdrive.photos.readonly%20https%3a%2f%2fwww.googleapis.com%2fauth%2fpeopleapi.readonly\n",
            "\n",
            "Enter your authorization code:\n",
            "··········\n",
            "Mounted at /content/gdrive\n"
          ],
          "name": "stdout"
        }
      ]
    },
    {
      "cell_type": "code",
      "metadata": {
        "id": "bNCyZxd0fi1K",
        "colab_type": "code",
        "colab": {}
      },
      "source": [
        "train_directory = '/content/gdrive/My Drive/caltech/train'\n",
        "valid_directory = '/content/gdrive/My Drive/caltech/valid'\n",
        "test_directory = '/content/gdrive/My Drive/caltech/test'"
      ],
      "execution_count": 0,
      "outputs": []
    },
    {
      "cell_type": "code",
      "metadata": {
        "id": "4ks-S3UDxKWD",
        "colab_type": "code",
        "colab": {}
      },
      "source": [
        "bs = 32\n",
        "num_classes = 10"
      ],
      "execution_count": 0,
      "outputs": []
    },
    {
      "cell_type": "code",
      "metadata": {
        "id": "dYjOtm5XxOZ6",
        "colab_type": "code",
        "colab": {}
      },
      "source": [
        "data = {\n",
        "    'train' : datasets.ImageFolder(root=train_directory,\n",
        "                                   transform=image_transforms['train']),\n",
        "        'valid' : datasets.ImageFolder(root=valid_directory, transform=image_transforms['valid']),\n",
        "        'test' : datasets.ImageFolder(root=test_directory, transform=image_transforms['test'])\n",
        "}"
      ],
      "execution_count": 0,
      "outputs": []
    },
    {
      "cell_type": "code",
      "metadata": {
        "id": "_eDyfb3MyFMa",
        "colab_type": "code",
        "colab": {
          "base_uri": "https://localhost:8080/",
          "height": 34
        },
        "outputId": "7441ce47-349d-4ef9-f055-3c6dc267095c"
      },
      "source": [
        "train_data_size = len(data['train'])\n",
        "print(train_data_size)"
      ],
      "execution_count": 16,
      "outputs": [
        {
          "output_type": "stream",
          "text": [
            "600\n"
          ],
          "name": "stdout"
        }
      ]
    },
    {
      "cell_type": "code",
      "metadata": {
        "id": "kTQ7ea_WbuxM",
        "colab_type": "code",
        "colab": {
          "base_uri": "https://localhost:8080/",
          "height": 34
        },
        "outputId": "ab934d45-3c10-49b9-f2b5-c5c5dba63d3e"
      },
      "source": [
        "valid_data_size = len(data['valid'])\n",
        "print(valid_data_size)"
      ],
      "execution_count": 18,
      "outputs": [
        {
          "output_type": "stream",
          "text": [
            "100\n"
          ],
          "name": "stdout"
        }
      ]
    },
    {
      "cell_type": "code",
      "metadata": {
        "id": "pseuuKHZbxKg",
        "colab_type": "code",
        "colab": {
          "base_uri": "https://localhost:8080/",
          "height": 34
        },
        "outputId": "0d518dc6-9001-4600-e4ea-0745e15eae57"
      },
      "source": [
        "test_data_size = len(data['test'])\n",
        "print(test_data_size)"
      ],
      "execution_count": 19,
      "outputs": [
        {
          "output_type": "stream",
          "text": [
            "409\n"
          ],
          "name": "stdout"
        }
      ]
    },
    {
      "cell_type": "code",
      "metadata": {
        "id": "it-QlDT0yQdq",
        "colab_type": "code",
        "colab": {}
      },
      "source": [
        "train_data = DataLoader(data['train'], batch_size=bs, shuffle=True)\n",
        "valid_data = DataLoader(data['valid'], batch_size=bs, shuffle=True)\n",
        "test_data = DataLoader(data['test'], batch_size=bs, shuffle=True)"
      ],
      "execution_count": 0,
      "outputs": []
    },
    {
      "cell_type": "code",
      "metadata": {
        "id": "ZlV48z9jzYC8",
        "colab_type": "code",
        "colab": {}
      },
      "source": [
        ""
      ],
      "execution_count": 0,
      "outputs": []
    },
    {
      "cell_type": "code",
      "metadata": {
        "id": "bb_BBE3zza6N",
        "colab_type": "code",
        "colab": {}
      },
      "source": [
        ""
      ],
      "execution_count": 0,
      "outputs": []
    }
  ]
}